{
 "cells": [
  {
   "cell_type": "code",
   "execution_count": null,
   "id": "a5e2c249",
   "metadata": {},
   "outputs": [],
   "source": [
    "#Import relevant libraries\n",
    "import requests\n",
    "from urllib.parse import quote\n",
    "from lxml import etree"
   ]
  },
  {
   "cell_type": "code",
   "execution_count": null,
   "id": "fffc7f40",
   "metadata": {},
   "outputs": [],
   "source": [
    "#Encode url\n",
    "url = \"https://wayback.webarchiv.cz/wayback/20221024073116/https://gacr.cz/o-ga-cr/poradni-organy/panely/\"\n",
    "encoded_url = quote(url)"
   ]
  },
  {
   "cell_type": "code",
   "execution_count": null,
   "id": "9f9858da",
   "metadata": {},
   "outputs": [],
   "source": [
    "#Fetch url content\n",
    "r = requests.get(url)"
   ]
  },
  {
   "cell_type": "code",
   "execution_count": null,
   "id": "d9d2acac",
   "metadata": {},
   "outputs": [],
   "source": [
    "#Parse content through beautiful soup\n",
    "soup = BeautifulSoup(r.text, 'lxml')"
   ]
  },
  {
   "cell_type": "code",
   "execution_count": null,
   "id": "56bcc4ae",
   "metadata": {},
   "outputs": [],
   "source": [
    "#Find the first accordeon div\n",
    "first_accordeon_div = soup.find('div', class_='accordeon')"
   ]
  },
  {
   "cell_type": "code",
   "execution_count": null,
   "id": "5587d85a",
   "metadata": {},
   "outputs": [],
   "source": [
    "#Fetch subject name\n",
    "subject_name = first_accordeon_div.label.contents[0]"
   ]
  },
  {
   "cell_type": "code",
   "execution_count": null,
   "id": "6fa7ebf8",
   "metadata": {},
   "outputs": [],
   "source": [
    "#Finf list of panelists\n",
    "panelists = first_accordeon_div.find_all('li')"
   ]
  },
  {
   "cell_type": "code",
   "execution_count": null,
   "id": "991f1bf3",
   "metadata": {},
   "outputs": [],
   "source": [
    "#Print panelists names\n",
    "for item in panelists:\n",
    "    print(item.contents[0].contents[0])"
   ]
  }
 ],
 "metadata": {
  "kernelspec": {
   "display_name": "Python 3 (ipykernel)",
   "language": "python",
   "name": "python3"
  },
  "language_info": {
   "codemirror_mode": {
    "name": "ipython",
    "version": 3
   },
   "file_extension": ".py",
   "mimetype": "text/x-python",
   "name": "python",
   "nbconvert_exporter": "python",
   "pygments_lexer": "ipython3",
   "version": "3.11.2"
  }
 },
 "nbformat": 4,
 "nbformat_minor": 5
}
